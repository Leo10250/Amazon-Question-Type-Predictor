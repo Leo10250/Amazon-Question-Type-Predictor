{
  "nbformat": 4,
  "nbformat_minor": 0,
  "metadata": {
    "colab": {
      "provenance": []
    },
    "kernelspec": {
      "name": "python3",
      "display_name": "Python 3"
    },
    "language_info": {
      "name": "python"
    }
  },
  "cells": [
    {
      "cell_type": "code",
      "execution_count": null,
      "metadata": {
        "id": "J1UqUDoGV6gf"
      },
      "outputs": [],
      "source": [
        "import ast\n",
        "import json\n",
        "from matplotlib import pyplot as plt\n",
        "from collections import defaultdict\n",
        "from sklearn import linear_model\n",
        "import sklearn\n",
        "import numpy\n",
        "import random\n",
        "import gzip\n",
        "import math\n",
        "import nltk\n",
        "from nltk.stem import WordNetLemmatizer\n",
        "import re\n",
        "from sklearn.feature_extraction.text import TfidfVectorizer\n",
        "from sklearn.ensemble import RandomForestClassifier\n",
        "import pandas as pd\n",
        "import matplotlib.pyplot as plt\n",
        "from sklearn.naive_bayes import MultinomialNB\n",
        "from sklearn.feature_extraction.text import CountVectorizer\n",
        "from sklearn import preprocessing\n",
        "from sklearn.neighbors import KNeighborsClassifier"
      ]
    },
    {
      "cell_type": "code",
      "source": [
        "def assertFloat(x): # Checks that an answer is a float\n",
        "    assert type(float(x)) == float\n",
        "\n",
        "def assertFloatList(items, N):\n",
        "    assert len(items) == N\n",
        "    assert [type(float(x)) for x in items] == [float]*N"
      ],
      "metadata": {
        "id": "hhHxyt7lXbkZ"
      },
      "execution_count": null,
      "outputs": []
    },
    {
      "cell_type": "code",
      "source": [
        "f = open(\"stupid.json\")\n",
        "dataset = []\n",
        "for l in f:\n",
        "    dataset.append(json.loads(l))"
      ],
      "metadata": {
        "id": "LFT_wE1KmQCt"
      },
      "execution_count": null,
      "outputs": []
    },
    {
      "cell_type": "code",
      "source": [
        "df = pd.read_json('stupid.json', lines=True)"
      ],
      "metadata": {
        "id": "8C3xpv7qxPXT"
      },
      "execution_count": null,
      "outputs": []
    },
    {
      "cell_type": "code",
      "source": [
        "dataset[0]"
      ],
      "metadata": {
        "id": "xEVLkhsSbMoT",
        "colab": {
          "base_uri": "https://localhost:8080/"
        },
        "outputId": "41959aa1-122e-43f4-8dc6-86c8bb25170e"
      },
      "execution_count": null,
      "outputs": [
        {
          "output_type": "execute_result",
          "data": {
            "text/plain": [
              "{'questionType': 'yes/no',\n",
              " 'asin': '8805002666',\n",
              " 'answerTime': 'Mar 29, 2014',\n",
              " 'unixTime': 1396076400,\n",
              " 'question': 'Will this fit a gazebo with the hypotenuse/pitch (peak to corner) of around 80\"?',\n",
              " 'answerType': '?',\n",
              " 'answer': 'I MEASURED AND IT IS 80\".'}"
            ]
          },
          "metadata": {},
          "execution_count": 5
        }
      ]
    },
    {
      "cell_type": "code",
      "source": [
        "def accuracy(predictions, y):\n",
        "  correct = 0\n",
        "  for i in range(len(y)):\n",
        "    if predictions[i] == y[i]:\n",
        "      correct += 1\n",
        "  return correct / len(predictions)"
      ],
      "metadata": {
        "id": "7KALsLxn4YrG"
      },
      "execution_count": null,
      "outputs": []
    },
    {
      "cell_type": "code",
      "source": [
        "#Exploratory Analysis"
      ],
      "metadata": {
        "id": "o_G3WOiOsY8g"
      },
      "execution_count": null,
      "outputs": []
    },
    {
      "cell_type": "code",
      "source": [
        "df['questionType'].describe()"
      ],
      "metadata": {
        "colab": {
          "base_uri": "https://localhost:8080/"
        },
        "id": "L2Q7F-_WwYz4",
        "outputId": "cd981c18-c3ec-496a-fafc-2a1db0d6e270"
      },
      "execution_count": null,
      "outputs": [
        {
          "output_type": "execute_result",
          "data": {
            "text/plain": [
              "count          59595\n",
              "unique             2\n",
              "top       open-ended\n",
              "freq           33248\n",
              "Name: questionType, dtype: object"
            ]
          },
          "metadata": {},
          "execution_count": 8
        }
      ]
    },
    {
      "cell_type": "code",
      "source": [
        "df['answerType'].value_counts()"
      ],
      "metadata": {
        "id": "YALfQHeSwXMq",
        "colab": {
          "base_uri": "https://localhost:8080/"
        },
        "outputId": "3c46179e-2541-40c0-b1a7-5dd9bed4f0a0"
      },
      "execution_count": null,
      "outputs": [
        {
          "output_type": "execute_result",
          "data": {
            "text/plain": [
              "?    14025\n",
              "Y     8548\n",
              "N     3774\n",
              "Name: answerType, dtype: int64"
            ]
          },
          "metadata": {},
          "execution_count": 9
        }
      ]
    },
    {
      "cell_type": "code",
      "source": [
        "for i in dataset:\n",
        "  if i['asin'] == 'B003MOD2HY':\n",
        "    print(i)"
      ],
      "metadata": {
        "id": "sNI3i4v8wXV5",
        "colab": {
          "base_uri": "https://localhost:8080/"
        },
        "outputId": "ede6c2f1-6c7b-482a-dd14-1bc8ac15e51a"
      },
      "execution_count": null,
      "outputs": [
        {
          "output_type": "stream",
          "name": "stdout",
          "text": [
            "{'questionType': 'open-ended', 'asin': 'B003MOD2HY', 'answerTime': 'Nov 18, 2012', 'unixTime': 1353225600, 'question': 'Does this reconstitute to a powdery or fibrous material? Thanks.', 'answer': 'I have only used a little for my worms but what I have used had a texture like coffee grains when I used water to reconstitute it. I like the stuff.'}\n",
            "{'questionType': 'open-ended', 'asin': 'B003MOD2HY', 'answerTime': 'Feb 17, 2015', 'unixTime': 1424160000, 'question': 'when reconstited i know it expands some but how well does it hold together? or does it fall apart?', 'answer': 'once reconstituted it falls apart and acts more like a soil.'}\n",
            "{'questionType': 'open-ended', 'asin': 'B003MOD2HY', 'answerTime': 'Mar 6, 2014', 'unixTime': 1394092800, 'question': 'Has anybody used this to make a potting mix for citrus? What was your mix \"recipe\"?', 'answer': 'You only need 20% mixed with proper soil and an acceptable climate. And mix the 20% with 20% soil right at the spot where the roots will touch. Good luck to you, its a great mix!'}\n",
            "{'questionType': 'yes/no', 'asin': 'B003MOD2HY', 'answerTime': 'Feb 6, 2015', 'unixTime': 1423209600, 'question': 'can I use itin worm bed?', 'answerType': 'Y', 'answer': 'Hello.Yes you can use it in a worm bed and also for plants.I use it for worms myself and it works great.'}\n",
            "{'questionType': 'open-ended', 'asin': 'B003MOD2HY', 'answerTime': 'Mar 8, 2015', 'unixTime': 1425801600, 'question': 'How many cubic feet of medium does this provide? I plan to buy earth boxes which hold 2 cubic feet. I plan to mix garden soil, this and compost.', 'answer': 'Your plan is exactly how I use Kemp coco fiber. If u add about 12 gal. of water to a 11lb Kemp brick u end up with about 18gal. of moist coco fiber which = about 2 1/2 cu. ft. All measurements are off the top of my head and are subject to somebody with a slide-rule and whizzbang smarts to coming up with a better answer to your question. I had fun anyway. Good luck with your garden. G.'}\n",
            "{'answer': 'It sure is additive free. Cannot come more natural, it is only compressed.', 'asin': 'B003MOD2HY', 'answerTime': '26 days ago', 'question': 'Is this additive free? No fertilizer, chemicals, etc... Safe for reptile bedding? Much cheaper than reptile branded stuff.', 'questionType': 'open-ended'}\n",
            "{'questionType': 'open-ended', 'asin': 'B003MOD2HY', 'answerTime': 'Nov 21, 2014', 'unixTime': 1416556800, 'question': 'Have you found this Kempf brand of coco coir good for growing seedlings or is the salt content too high?', 'answer': 'My seedlings sprouted quickly in pure coir. I do not think the salt content is too high. I would not use it without other soil for sustained plant growth after a few days. I mix it in my garden beds and it has proven to be a good growth additive. It retains moisture and does not compact easily.'}\n",
            "{'answer': '100% Coir.', 'asin': 'B003MOD2HY', 'answerTime': '4 days ago', 'question': 'The package says contain humus, but it looks like 100% coconut coir only. Could any one verify if it is 100% coir or there are some addition ?', 'questionType': 'open-ended'}\n",
            "{'questionType': 'yes/no', 'asin': 'B003MOD2HY', 'answerTime': 'Apr 13, 2015', 'unixTime': 1428908400, 'question': 'I plan to use this as part of my soil mix in bag planters this season (2015). Are any of you planning to reuse your mix from last year? Thanks!', 'answerType': '?', 'answer': 'I have a compost pile and reuse all my container soil'}\n",
            "{'questionType': 'open-ended', 'asin': 'B003MOD2HY', 'answerTime': 'Mar 10, 2015', 'unixTime': 1425970800, 'question': 'Does this take the place of soil, or does it get mixed with soil?', 'answer': 'I think most people mix with soil, could be used either way. It does not add nutrients, it is to loosen soil and RETAINS WATER.'}\n"
          ]
        }
      ]
    },
    {
      "cell_type": "code",
      "source": [],
      "metadata": {
        "id": "H9fczhuOrB3W"
      },
      "execution_count": null,
      "outputs": []
    },
    {
      "cell_type": "code",
      "source": [
        "# Tf-idf"
      ],
      "metadata": {
        "id": "JJVLHMZ7wXn1"
      },
      "execution_count": null,
      "outputs": []
    },
    {
      "cell_type": "code",
      "source": [
        "wordCount = defaultdict(int)\n",
        "totalRead =0"
      ],
      "metadata": {
        "id": "Gkejv2TdvaJJ"
      },
      "execution_count": null,
      "outputs": []
    },
    {
      "cell_type": "code",
      "source": [
        "nltk.download('stopwords')\n",
        "nltk.download('wordnet')\n",
        "nltk.download('omw-1.4')\n",
        "stopwords = nltk.corpus.stopwords.words('english')\n",
        "lemmatizer = WordNetLemmatizer()"
      ],
      "metadata": {
        "colab": {
          "base_uri": "https://localhost:8080/"
        },
        "id": "nNFubVoox2NT",
        "outputId": "5b9c4eac-4dc4-4161-e263-d910015883b5"
      },
      "execution_count": null,
      "outputs": [
        {
          "output_type": "stream",
          "name": "stderr",
          "text": [
            "[nltk_data] Downloading package stopwords to /root/nltk_data...\n",
            "[nltk_data]   Unzipping corpora/stopwords.zip.\n",
            "[nltk_data] Downloading package wordnet to /root/nltk_data...\n",
            "[nltk_data] Downloading package omw-1.4 to /root/nltk_data...\n"
          ]
        }
      ]
    },
    {
      "cell_type": "code",
      "source": [
        "9*len(dataset)//10"
      ],
      "metadata": {
        "colab": {
          "base_uri": "https://localhost:8080/"
        },
        "id": "eA6cES-HuVAo",
        "outputId": "606908e6-df29-4f8d-f642-fb09af1a34ad"
      },
      "execution_count": null,
      "outputs": [
        {
          "output_type": "execute_result",
          "data": {
            "text/plain": [
              "53635"
            ]
          },
          "metadata": {},
          "execution_count": 14
        }
      ]
    },
    {
      "cell_type": "code",
      "source": [
        "trainReviews = []\n",
        "validReviews = []\n",
        "\n",
        "for i in range(9*len(dataset)//10):\n",
        "    review = re.sub('[^a-zA-Z]', ' ', dataset[i]['question']).lower().split()\n",
        "    review = ' '.join([lemmatizer.lemmatize(r) for r in review])\n",
        "\n",
        "    # removing stop word lower accuracy\n",
        "\n",
        "    # review = ' '.join([lemmatizer.lemmatize(r) for r in review if not r in set(stopwords)])\n",
        "    trainReviews.append(review)\n",
        "\n",
        "for i in range(9*len(dataset)//10, len(dataset)):\n",
        "    review = re.sub('[^a-zA-Z]', ' ', dataset[i]['question']).lower().split()\n",
        "    review = ' '.join([lemmatizer.lemmatize(r) for r in review])\n",
        "\n",
        "    # removing stop word lower accuracy\n",
        "\n",
        "    # review = ' '.join([lemmatizer.lemmatize(r) for r in review if not r in set(stopwords)])\n",
        "    validReviews.append(review)\n",
        "\n",
        "vectorizer = TfidfVectorizer()\n",
        "\n",
        "trainData = dataset[:9*len(dataset)//10]\n",
        "validData = dataset[9*len(dataset)//10:]\n",
        "\n",
        "Xtrain = vectorizer.fit_transform(trainReviews)\n",
        "ytrain = [d['questionType'] for d in trainData]\n",
        "Xvalid = vectorizer.transform(validReviews)\n",
        "yvalid = [d['questionType'] for d in validData]\n"
      ],
      "metadata": {
        "id": "Ql2jvx2fsKl2",
        "colab": {
          "base_uri": "https://localhost:8080/"
        },
        "outputId": "d77d801d-7c73-43a6-c6f1-e642b0c17edc"
      },
      "execution_count": null,
      "outputs": [
        {
          "output_type": "stream",
          "name": "stdout",
          "text": [
            "  (0, 16018)\t0.20421939242900222\n",
            "  (0, 15590)\t0.15850453928292701\n",
            "  (0, 15244)\t0.12534758814099467\n",
            "  (0, 14560)\t0.07865583693076923\n",
            "  (0, 14372)\t0.1286155836554197\n",
            "  (0, 13494)\t0.22401998534741852\n",
            "  (0, 11169)\t0.4845875511398021\n",
            "  (0, 7675)\t0.276533286177792\n",
            "  (0, 6961)\t0.3763846262348915\n",
            "  (0, 6757)\t0.160794351309555\n",
            "  (0, 6427)\t0.10352885364240277\n",
            "  (0, 5801)\t0.1832780880753223\n",
            "  (0, 4988)\t0.22606919687509375\n",
            "  (0, 4145)\t0.08823871549583635\n",
            "  (0, 2937)\t0.4027164311244472\n",
            "  (0, 2747)\t0.13451632663923158\n",
            "  (0, 486)\t0.2867952350828493\n",
            "  (1, 15197)\t0.2830258055286051\n",
            "  (1, 14560)\t0.1508155843713247\n",
            "  (1, 14372)\t0.12330448168343848\n",
            "  (1, 11104)\t0.32074012238171296\n",
            "  (1, 10247)\t0.44924636076101787\n",
            "  (1, 9687)\t0.25751341990696847\n",
            "  (1, 7653)\t0.28873147290207907\n",
            "  (1, 7491)\t0.35193717100016436\n",
            "  :\t:\n",
            "  (5957, 1193)\t0.3112133506426025\n",
            "  (5958, 16282)\t0.30958286913513183\n",
            "  (5958, 15255)\t0.3131875896446626\n",
            "  (5958, 15197)\t0.25013191032934434\n",
            "  (5958, 14509)\t0.3009556842085689\n",
            "  (5958, 14281)\t0.095798873325394\n",
            "  (5958, 13260)\t0.41218735014804464\n",
            "  (5958, 8629)\t0.4395054176018171\n",
            "  (5958, 7484)\t0.12743805902212843\n",
            "  (5958, 4145)\t0.14952627246657207\n",
            "  (5958, 3056)\t0.39302077964054133\n",
            "  (5958, 1929)\t0.2960184762476967\n",
            "  (5959, 15590)\t0.16099087026870687\n",
            "  (5959, 14560)\t0.07988964667185396\n",
            "  (5959, 14348)\t0.22753400351701195\n",
            "  (5959, 14281)\t0.05741979211256822\n",
            "  (5959, 9749)\t0.10599347589907177\n",
            "  (5959, 8970)\t0.7918784507751656\n",
            "  (5959, 8629)\t0.2634301305958499\n",
            "  (5959, 7810)\t0.15660540071442947\n",
            "  (5959, 7484)\t0.07638364212724127\n",
            "  (5959, 7463)\t0.14098975736697558\n",
            "  (5959, 7078)\t0.09715517913698336\n",
            "  (5959, 6784)\t0.0974710164906989\n",
            "  (5959, 4888)\t0.3684450371931111\n"
          ]
        }
      ]
    },
    {
      "cell_type": "code",
      "source": [
        "print(validReviews)"
      ],
      "metadata": {
        "id": "XtBtdMHvfuTJ"
      },
      "execution_count": null,
      "outputs": []
    },
    {
      "cell_type": "code",
      "source": [
        "# model = linear_model.LinearRegression(fit_intercept=False)\n",
        "model = linear_model.LogisticRegression(C=1.0)\n",
        "model.fit(Xtrain, ytrain)\n",
        "y_something = model.predict(Xvalid)\n",
        "print(accuracy(y_something, yvalid))"
      ],
      "metadata": {
        "colab": {
          "base_uri": "https://localhost:8080/"
        },
        "id": "qVHd1RF83O7P",
        "outputId": "d3aa7bfa-28e1-4840-c4a7-29167fc47733"
      },
      "execution_count": null,
      "outputs": [
        {
          "output_type": "stream",
          "name": "stdout",
          "text": [
            "0.8865771812080537\n"
          ]
        }
      ]
    },
    {
      "cell_type": "code",
      "source": [],
      "metadata": {
        "id": "fjm12BmX3Uk_"
      },
      "execution_count": null,
      "outputs": []
    },
    {
      "cell_type": "code",
      "source": [
        "# Naive Bayes"
      ],
      "metadata": {
        "id": "OmfjrKbHtMLa"
      },
      "execution_count": null,
      "outputs": []
    },
    {
      "cell_type": "code",
      "source": [
        "vectorizer = CountVectorizer(stop_words='english')\n",
        "mod = MultinomialNB()\n",
        "mod.fit(Xtrain, ytrain)\n",
        "pred = mod.predict(Xvalid)\n",
        "print(accuracy(pred, yvalid))"
      ],
      "metadata": {
        "id": "YRwI2sAktM17",
        "colab": {
          "base_uri": "https://localhost:8080/"
        },
        "outputId": "e6c1000c-e12a-48c5-c27f-61eeb09e114c"
      },
      "execution_count": null,
      "outputs": [
        {
          "output_type": "stream",
          "name": "stdout",
          "text": [
            "0.7686241610738255\n"
          ]
        }
      ]
    },
    {
      "cell_type": "code",
      "source": [],
      "metadata": {
        "id": "Ghc78l4pDrsb"
      },
      "execution_count": null,
      "outputs": []
    },
    {
      "cell_type": "code",
      "source": [
        "# K-Nearest Neighbor"
      ],
      "metadata": {
        "id": "FMd48sibD4Wk"
      },
      "execution_count": null,
      "outputs": []
    },
    {
      "cell_type": "code",
      "source": [
        "encoder = preprocessing.LabelEncoder()\n",
        "mod = KNeighborsClassifier(n_neighbors=3)\n",
        "\n",
        "mod.fit(Xtrain, ytrain)\n",
        "\n",
        "pred = mod.predict(Xvalid)\n",
        "print(accuracy(pred, yvalid))"
      ],
      "metadata": {
        "id": "yz23h00StMRe",
        "colab": {
          "base_uri": "https://localhost:8080/"
        },
        "outputId": "4db26228-10e1-4852-d884-e7dcb19811f0"
      },
      "execution_count": null,
      "outputs": [
        {
          "output_type": "stream",
          "name": "stdout",
          "text": [
            "0.6860738255033557\n"
          ]
        }
      ]
    },
    {
      "cell_type": "code",
      "source": [],
      "metadata": {
        "id": "2D3Imx4nE3kZ"
      },
      "execution_count": null,
      "outputs": []
    },
    {
      "cell_type": "code",
      "source": [
        "# Popular Words"
      ],
      "metadata": {
        "id": "Z5GiQUUJ3UtY"
      },
      "execution_count": null,
      "outputs": []
    },
    {
      "cell_type": "code",
      "source": [
        "for word in dataset:\n",
        "  if word['questionType']  == 'yes/no':\n",
        "    for i in word['question'].split():\n",
        "      if i not in stopwords:\n",
        "        wordCount[i] += 1\n",
        "      # wordCount[i] += 1"
      ],
      "metadata": {
        "id": "0v9upMWUvm8x"
      },
      "execution_count": null,
      "outputs": []
    },
    {
      "cell_type": "code",
      "source": [
        "mostPopular = [(wordCount[i], i) for i in wordCount]\n",
        "mostPopular.sort()\n",
        "mostPopular.reverse()\n",
        "print(mostPopular)"
      ],
      "metadata": {
        "id": "ew6f9x4xvU4y"
      },
      "execution_count": null,
      "outputs": []
    },
    {
      "cell_type": "code",
      "source": [
        "top10 = []\n",
        "acc = defaultdict(int)\n",
        "total = defaultdict(int)\n",
        "data = defaultdict(float)\n",
        "\n",
        "for i in range(len(mostPopular)):\n",
        "  top10.append(mostPopular[i][1])\n",
        "\n",
        "# top10 = ['Would', 'Will', 'Can', 'Is', 'Are', 'Do']\n",
        "\n",
        "for word in dataset:\n",
        "    for i in top10:\n",
        "      if i in word['question'].split():\n",
        "        if word['questionType']  == 'yes/no':\n",
        "          acc[i] += 1\n",
        "\n",
        "        total[i] += 1\n",
        "\n",
        "for i in acc:\n",
        "  # print(acc[i], \" \", total[i])\n",
        "  data[i] = float(acc[i]) / float(total[i]) * 100\n",
        "\n",
        "# dict(sorted(data.items(), key=lambda item: item[1]))\n",
        "\n",
        "# for i in data:\n",
        "#   if data[i] > 60:\n",
        "#     print(i, \": \", data[i])\n",
        "\n",
        "# data = data[:10]\n",
        "\n",
        "courses = list(data.keys())\n",
        "values = list(data.values())\n",
        "  \n",
        "fig = plt.figure(figsize = (10, 5))\n",
        " \n",
        "# creating the bar plot\n",
        "plt.bar(courses, values, color ='maroon',\n",
        "        width = 0.4)\n",
        " \n",
        "plt.xlabel(\"Top 10 Most Popular Word (without stop words)\")\n",
        "plt.ylabel(\"% of questions that are yes/no given it contains this word\")\n",
        "plt.show()"
      ],
      "metadata": {
        "id": "05n6K8QdAgq7"
      },
      "execution_count": null,
      "outputs": []
    },
    {
      "cell_type": "code",
      "source": [
        "def feature(datum):\n",
        "    #words picked by Leo and Kevin without looking at data, only use 1 element in feature vector\n",
        "    counter = datum['question'].count(\"would\") + datum['question'].count(\"will\") + datum['question'].count(\"can\") + datum['question'].count(\"is\") + datum['question'].count(\"are\") + datum['question'].count(\"do\")\n",
        "    feat = [1, datum['question'].count('?')]\n",
        "    #words picked by Leo and Kevin without looking at data\n",
        "    # feat = [1, datum['question'].count(\"would\"), datum['question'].count(\"will\"), datum['question'].count(\"can\"), datum['question'].count(\"is\"), datum['question'].count(\"are\"), datum['question'].count(\"do\")]\n",
        "    # feat = [1, datum['question'].count(\"Would\"), datum['question'].count(\"Will\"), datum['question'].count(\"Can\"), datum['question'].count(\"Is\"), datum['question'].count(\"Are\"), datum['question'].count(\"Do\")]\n",
        "    #remove stop words, get highest count, then hand pick likely options\n",
        "    # feat = [1, datum['question'].count(\"Does\"), datum['question'].count(\"Is\"), datum['question'].count(\"Will\"), datum['question'].count(\"Can\"), datum['question'].count(\"Do\")]\n",
        "    return(feat)"
      ],
      "metadata": {
        "id": "x-VAPPMPcJKM"
      },
      "execution_count": null,
      "outputs": []
    },
    {
      "cell_type": "code",
      "source": [
        "X = [feature(x) for x in dataset]\n",
        "y = [d['questionType'] for d in dataset]\n",
        "\n",
        "Xtrain = X[:9*len(X)//10]\n",
        "ytrain = y[:9*len(y)//10]\n",
        "Xvalid = X[9*len(X)//10:]\n",
        "yvalid = y[9*len(y)//10:]"
      ],
      "metadata": {
        "id": "OHon-6xwcPC3"
      },
      "execution_count": null,
      "outputs": []
    },
    {
      "cell_type": "code",
      "source": [
        "# model = linear_model.LinearRegression(fit_intercept=False)\n",
        "model = linear_model.LogisticRegression(C=1.0)\n",
        "model.fit(Xtrain, ytrain)"
      ],
      "metadata": {
        "id": "jcPtxtQKoSXQ",
        "colab": {
          "base_uri": "https://localhost:8080/"
        },
        "outputId": "f6e657a1-20b7-4ff7-ffd1-09378b7acd6e"
      },
      "execution_count": null,
      "outputs": [
        {
          "output_type": "execute_result",
          "data": {
            "text/plain": [
              "LogisticRegression()"
            ]
          },
          "metadata": {},
          "execution_count": 49
        }
      ]
    },
    {
      "cell_type": "code",
      "source": [
        "y_something = model.predict(Xvalid)"
      ],
      "metadata": {
        "id": "2mIRuoJAsAam"
      },
      "execution_count": null,
      "outputs": []
    },
    {
      "cell_type": "code",
      "source": [
        "print(accuracy(y_something, yvalid))"
      ],
      "metadata": {
        "id": "Nv0uNqCOs7aj",
        "colab": {
          "base_uri": "https://localhost:8080/"
        },
        "outputId": "a483d615-277a-4f4e-adc1-1718e5fecfb8"
      },
      "execution_count": null,
      "outputs": [
        {
          "output_type": "stream",
          "name": "stdout",
          "text": [
            "0.5714765100671141\n"
          ]
        }
      ]
    },
    {
      "cell_type": "code",
      "source": [],
      "metadata": {
        "id": "_UEC1iaes_Vs"
      },
      "execution_count": null,
      "outputs": []
    }
  ]
}